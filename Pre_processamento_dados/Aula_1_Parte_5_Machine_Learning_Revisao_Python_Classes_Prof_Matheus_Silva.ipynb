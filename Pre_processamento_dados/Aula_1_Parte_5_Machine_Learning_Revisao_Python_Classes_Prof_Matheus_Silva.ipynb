{
  "nbformat": 4,
  "nbformat_minor": 0,
  "metadata": {
    "colab": {
      "provenance": []
    },
    "kernelspec": {
      "name": "python3",
      "display_name": "Python 3"
    },
    "language_info": {
      "name": "python"
    }
  },
  "cells": [
    {
      "cell_type": "code",
      "execution_count": null,
      "metadata": {
        "id": "EF3oth8prBtp"
      },
      "outputs": [],
      "source": [
        "# Classe -> forma\n",
        "# Objeto -> biscoito\n",
        "class Inteiros:\n",
        "  def __init__(self, n1, n2): #Método construtor de objetos\n",
        "    self.atributo1 = n1\n",
        "    self.atributo2 = n2\n",
        "\n",
        "  def soma(self): #metodo exemplo\n",
        "    return self.atributo1 + self.atributo2\n",
        "  def atributos(self):\n",
        "    return [10,20]"
      ]
    },
    {
      "cell_type": "code",
      "source": [
        "objeto = Inteiros(10,20)"
      ],
      "metadata": {
        "id": "XRl7bzZW3XVR"
      },
      "execution_count": null,
      "outputs": []
    },
    {
      "cell_type": "code",
      "source": [
        "objeto.atributo1"
      ],
      "metadata": {
        "colab": {
          "base_uri": "https://localhost:8080/"
        },
        "id": "HS-HAPfI3bEK",
        "outputId": "0389933b-bb39-42a8-e9ac-6eb0cc8dc1ac"
      },
      "execution_count": null,
      "outputs": [
        {
          "output_type": "execute_result",
          "data": {
            "text/plain": [
              "10"
            ]
          },
          "metadata": {},
          "execution_count": 22
        }
      ]
    },
    {
      "cell_type": "code",
      "source": [
        "objeto.atributo2\n"
      ],
      "metadata": {
        "colab": {
          "base_uri": "https://localhost:8080/"
        },
        "id": "o-OWqq2u3bpZ",
        "outputId": "b251291e-d9ac-42e5-83ca-a4931ff478cd"
      },
      "execution_count": null,
      "outputs": [
        {
          "output_type": "execute_result",
          "data": {
            "text/plain": [
              "20"
            ]
          },
          "metadata": {},
          "execution_count": 23
        }
      ]
    },
    {
      "cell_type": "code",
      "source": [
        "objeto.soma()"
      ],
      "metadata": {
        "colab": {
          "base_uri": "https://localhost:8080/"
        },
        "id": "HrYMzhAh4Vru",
        "outputId": "ca8261ff-1926-47f5-b441-41ffe5485f43"
      },
      "execution_count": null,
      "outputs": [
        {
          "output_type": "execute_result",
          "data": {
            "text/plain": [
              "30"
            ]
          },
          "metadata": {},
          "execution_count": 24
        }
      ]
    },
    {
      "cell_type": "code",
      "source": [
        "objeto.atributos()"
      ],
      "metadata": {
        "colab": {
          "base_uri": "https://localhost:8080/"
        },
        "id": "lJPDoUX54XiM",
        "outputId": "68c3cfc3-c481-4190-d3a0-4e0309acd813"
      },
      "execution_count": null,
      "outputs": [
        {
          "output_type": "execute_result",
          "data": {
            "text/plain": [
              "[10, 20]"
            ]
          },
          "metadata": {},
          "execution_count": 25
        }
      ]
    }
  ]
}