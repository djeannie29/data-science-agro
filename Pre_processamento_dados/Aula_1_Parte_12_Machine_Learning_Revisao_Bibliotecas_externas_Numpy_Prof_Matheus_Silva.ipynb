{
  "nbformat": 4,
  "nbformat_minor": 0,
  "metadata": {
    "colab": {
      "provenance": []
    },
    "kernelspec": {
      "name": "python3",
      "display_name": "Python 3"
    },
    "language_info": {
      "name": "python"
    }
  },
  "cells": [
    {
      "cell_type": "markdown",
      "source": [
        "# Questão 1"
      ],
      "metadata": {
        "id": "-ochb4GfcV3E"
      }
    },
    {
      "cell_type": "code",
      "execution_count": null,
      "metadata": {
        "colab": {
          "base_uri": "https://localhost:8080/"
        },
        "id": "_Tr_K5LEZ5Yz",
        "outputId": "ced16a0e-14f3-4ee4-d8e7-7e84fc9ba0ad"
      },
      "outputs": [
        {
          "output_type": "stream",
          "name": "stdout",
          "text": [
            "Looking in indexes: https://pypi.org/simple, https://us-python.pkg.dev/colab-wheels/public/simple/\n",
            "Requirement already satisfied: numpy in /usr/local/lib/python3.10/dist-packages (1.22.4)\n"
          ]
        },
        {
          "output_type": "execute_result",
          "data": {
            "text/plain": [
              "array([[2, 2],\n",
              "       [2, 2]])"
            ]
          },
          "metadata": {},
          "execution_count": 14
        }
      ],
      "source": [
        "#!pip install numpy\n",
        "import numpy as np\n",
        "matriz_1 = np.zeros([6,6])\n",
        "matriz_2 = np.ones([4,4])\n",
        "matriz_3 = np.full([2,2], 2)\n",
        "matriz_3"
      ]
    },
    {
      "cell_type": "code",
      "source": [
        "matriz_1[1:-1,1:-1] = matriz_2\n",
        "matriz_1[2:-2, 2:-2] = matriz_3\n",
        "matriz_1"
      ],
      "metadata": {
        "colab": {
          "base_uri": "https://localhost:8080/"
        },
        "id": "nTY_BTSkae53",
        "outputId": "a13d0b04-b9d2-48fd-a2df-5f4ac8d3d4f2"
      },
      "execution_count": null,
      "outputs": [
        {
          "output_type": "execute_result",
          "data": {
            "text/plain": [
              "array([[0., 0., 0., 0., 0., 0.],\n",
              "       [0., 1., 1., 1., 1., 0.],\n",
              "       [0., 1., 2., 2., 1., 0.],\n",
              "       [0., 1., 2., 2., 1., 0.],\n",
              "       [0., 1., 1., 1., 1., 0.],\n",
              "       [0., 0., 0., 0., 0., 0.]])"
            ]
          },
          "metadata": {},
          "execution_count": 19
        }
      ]
    },
    {
      "cell_type": "code",
      "source": [
        "np.random.seed(0)\n",
        "matriz_4 = np.random.randint(0, 3, [6,6])\n",
        "matriz_1 - matriz_4"
      ],
      "metadata": {
        "colab": {
          "base_uri": "https://localhost:8080/"
        },
        "id": "iB0FriL3a2Dq",
        "outputId": "b779f48b-5d2c-401b-8225-f022bb5b0595"
      },
      "execution_count": null,
      "outputs": [
        {
          "output_type": "execute_result",
          "data": {
            "text/plain": [
              "array([[ 0., -1.,  0., -1., -1., -2.],\n",
              "       [ 0., -1.,  1.,  1.,  1., -2.],\n",
              "       [-1., -1.,  0.,  2.,  0., -1.],\n",
              "       [-1.,  0.,  2.,  1.,  1.,  0.],\n",
              "       [-1., -1.,  1., -1.,  1., -1.],\n",
              "       [-1., -2.,  0., -1., -1., -1.]])"
            ]
          },
          "metadata": {},
          "execution_count": 23
        }
      ]
    },
    {
      "cell_type": "markdown",
      "source": [
        "# Questão 2"
      ],
      "metadata": {
        "id": "VUjkU62UcZnV"
      }
    },
    {
      "cell_type": "code",
      "source": [
        "matriz = np.arange(81).reshape([9,9])\n",
        "impar = matriz%2 == 1\n",
        "par = matriz%2 == 0\n",
        "mult_7 = matriz % 7 == 0\n",
        "matriz.diagonal()\n",
        "linhas = [3,3,4,4]\n",
        "colunas = [5,6,6,7]\n",
        "matriz[linhas, colunas]"
      ],
      "metadata": {
        "colab": {
          "base_uri": "https://localhost:8080/"
        },
        "id": "sWOUgyPyb-5v",
        "outputId": "6af22dfa-4f20-41bd-8180-df3171a7d5be"
      },
      "execution_count": null,
      "outputs": [
        {
          "output_type": "execute_result",
          "data": {
            "text/plain": [
              "array([32, 33, 42, 43])"
            ]
          },
          "metadata": {},
          "execution_count": 34
        }
      ]
    },
    {
      "cell_type": "markdown",
      "source": [
        "# Questão 3"
      ],
      "metadata": {
        "id": "gCpRjUHPdxj9"
      }
    },
    {
      "cell_type": "code",
      "source": [
        "[0,0,0]\n",
        "[3,2,0]\n",
        "[3,2,-1]\n",
        "[4,0,0]\n",
        "[8,0,-1]\n",
        "[9,1,4]\n",
        "[10,0,1]\n",
        "[11,-1,3]"
      ],
      "metadata": {
        "id": "mUwtP0TzgV71"
      },
      "execution_count": null,
      "outputs": []
    },
    {
      "cell_type": "code",
      "source": [
        "mes_lista = list(range(1,29))\n",
        "ano_lista = list(range(1,29)) * 12\n",
        "matriz_ano = np.array(ano_lista).reshape(12,4,7) #mes, semana, dia\n",
        "matriz_ano = matriz_ano.astype(str)\n",
        "matriz_ano[:,:,:] = 'D'\n",
        "matriz_ano[:,:, -2:] = 'W'\n",
        "#comeco_mes = matriz_ano == '1'#maskara\n",
        "#matriz_ano[comeco_mes] = 'S'\n",
        "matriz_ano[:,0,0] = 'S'\n",
        "matriz_ano[:,-1,-1] = 'E'\n",
        "meses = [0,3,3,4,8,9,10,10,11]\n",
        "semanas = [0,2,2,0,0,1,0,2,-1]\n",
        "dias = [0,0,-1,0,-1,4,1,-1,3]\n",
        "matriz_ano[meses, semanas, dias]\n",
        "matriz_ano"
      ],
      "metadata": {
        "colab": {
          "base_uri": "https://localhost:8080/"
        },
        "id": "IVWa0Ntjciy3",
        "outputId": "526253d8-06ea-4c59-d7cb-e72539ebfbb5"
      },
      "execution_count": null,
      "outputs": [
        {
          "output_type": "execute_result",
          "data": {
            "text/plain": [
              "array([[['S', 'D', 'D', 'D', 'D', 'W', 'W'],\n",
              "        ['D', 'D', 'D', 'D', 'D', 'W', 'W'],\n",
              "        ['D', 'D', 'D', 'D', 'D', 'W', 'W'],\n",
              "        ['D', 'D', 'D', 'D', 'D', 'W', 'E']],\n",
              "\n",
              "       [['S', 'D', 'D', 'D', 'D', 'W', 'W'],\n",
              "        ['D', 'D', 'D', 'D', 'D', 'W', 'W'],\n",
              "        ['D', 'D', 'D', 'D', 'D', 'W', 'W'],\n",
              "        ['D', 'D', 'D', 'D', 'D', 'W', 'E']],\n",
              "\n",
              "       [['S', 'D', 'D', 'D', 'D', 'W', 'W'],\n",
              "        ['D', 'D', 'D', 'D', 'D', 'W', 'W'],\n",
              "        ['D', 'D', 'D', 'D', 'D', 'W', 'W'],\n",
              "        ['D', 'D', 'D', 'D', 'D', 'W', 'E']],\n",
              "\n",
              "       [['S', 'D', 'D', 'D', 'D', 'W', 'W'],\n",
              "        ['D', 'D', 'D', 'D', 'D', 'W', 'W'],\n",
              "        ['D', 'D', 'D', 'D', 'D', 'W', 'W'],\n",
              "        ['D', 'D', 'D', 'D', 'D', 'W', 'E']],\n",
              "\n",
              "       [['S', 'D', 'D', 'D', 'D', 'W', 'W'],\n",
              "        ['D', 'D', 'D', 'D', 'D', 'W', 'W'],\n",
              "        ['D', 'D', 'D', 'D', 'D', 'W', 'W'],\n",
              "        ['D', 'D', 'D', 'D', 'D', 'W', 'E']],\n",
              "\n",
              "       [['S', 'D', 'D', 'D', 'D', 'W', 'W'],\n",
              "        ['D', 'D', 'D', 'D', 'D', 'W', 'W'],\n",
              "        ['D', 'D', 'D', 'D', 'D', 'W', 'W'],\n",
              "        ['D', 'D', 'D', 'D', 'D', 'W', 'E']],\n",
              "\n",
              "       [['S', 'D', 'D', 'D', 'D', 'W', 'W'],\n",
              "        ['D', 'D', 'D', 'D', 'D', 'W', 'W'],\n",
              "        ['D', 'D', 'D', 'D', 'D', 'W', 'W'],\n",
              "        ['D', 'D', 'D', 'D', 'D', 'W', 'E']],\n",
              "\n",
              "       [['S', 'D', 'D', 'D', 'D', 'W', 'W'],\n",
              "        ['D', 'D', 'D', 'D', 'D', 'W', 'W'],\n",
              "        ['D', 'D', 'D', 'D', 'D', 'W', 'W'],\n",
              "        ['D', 'D', 'D', 'D', 'D', 'W', 'E']],\n",
              "\n",
              "       [['S', 'D', 'D', 'D', 'D', 'W', 'W'],\n",
              "        ['D', 'D', 'D', 'D', 'D', 'W', 'W'],\n",
              "        ['D', 'D', 'D', 'D', 'D', 'W', 'W'],\n",
              "        ['D', 'D', 'D', 'D', 'D', 'W', 'E']],\n",
              "\n",
              "       [['S', 'D', 'D', 'D', 'D', 'W', 'W'],\n",
              "        ['D', 'D', 'D', 'D', 'D', 'W', 'W'],\n",
              "        ['D', 'D', 'D', 'D', 'D', 'W', 'W'],\n",
              "        ['D', 'D', 'D', 'D', 'D', 'W', 'E']],\n",
              "\n",
              "       [['S', 'D', 'D', 'D', 'D', 'W', 'W'],\n",
              "        ['D', 'D', 'D', 'D', 'D', 'W', 'W'],\n",
              "        ['D', 'D', 'D', 'D', 'D', 'W', 'W'],\n",
              "        ['D', 'D', 'D', 'D', 'D', 'W', 'E']],\n",
              "\n",
              "       [['S', 'D', 'D', 'D', 'D', 'W', 'W'],\n",
              "        ['D', 'D', 'D', 'D', 'D', 'W', 'W'],\n",
              "        ['D', 'D', 'D', 'D', 'D', 'W', 'W'],\n",
              "        ['D', 'D', 'D', 'D', 'D', 'W', 'E']]], dtype='<U21')"
            ]
          },
          "metadata": {},
          "execution_count": 49
        }
      ]
    },
    {
      "cell_type": "code",
      "source": [],
      "metadata": {
        "id": "yHIFOPKQd7EV"
      },
      "execution_count": null,
      "outputs": []
    }
  ]
}