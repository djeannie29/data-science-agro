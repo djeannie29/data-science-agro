{
  "nbformat": 4,
  "nbformat_minor": 0,
  "metadata": {
    "colab": {
      "provenance": []
    },
    "kernelspec": {
      "name": "python3",
      "display_name": "Python 3"
    },
    "language_info": {
      "name": "python"
    }
  },
  "cells": [
    {
      "cell_type": "code",
      "execution_count": null,
      "metadata": {
        "colab": {
          "base_uri": "https://localhost:8080/"
        },
        "id": "P6NgxCuPfIaO",
        "outputId": "985a209d-ad8c-46cd-eb51-525813622cc8"
      },
      "outputs": [
        {
          "output_type": "stream",
          "name": "stdout",
          "text": [
            "Python 3.10.11\n"
          ]
        }
      ],
      "source": [
        "!python3 --version"
      ]
    },
    {
      "cell_type": "code",
      "source": [
        "variavel = 10"
      ],
      "metadata": {
        "id": "nHaQG2xlfVNS"
      },
      "execution_count": null,
      "outputs": []
    },
    {
      "cell_type": "code",
      "source": [
        "variavel"
      ],
      "metadata": {
        "colab": {
          "base_uri": "https://localhost:8080/"
        },
        "id": "Uyv50FvCfzQI",
        "outputId": "829cfe70-06f8-4102-911d-eef5af1af368"
      },
      "execution_count": null,
      "outputs": [
        {
          "output_type": "execute_result",
          "data": {
            "text/plain": [
              "10"
            ]
          },
          "metadata": {},
          "execution_count": 34
        }
      ]
    },
    {
      "cell_type": "code",
      "source": [
        "with open('variavel.python', 'w') as arquivo:\n",
        "  arquivo.write(str(variavel))"
      ],
      "metadata": {
        "id": "LoQUFW5Ef1Fn"
      },
      "execution_count": null,
      "outputs": []
    },
    {
      "cell_type": "code",
      "source": [
        "def preparar_bebida_quente1(bebida):\n",
        "  print('coloca água no recipiente')\n",
        "  print('ligar o fogo')\n",
        "  print('colocra recipiente no fogo')\n",
        "  print('esperar ferver')\n",
        "  print('desligar o fogo')\n",
        "  if bebida == 'café':\n",
        "    print('adicionar o café')\n",
        "  else: #chá\n",
        "    print('adicionar o chá')\n",
        "  print('filtrar')\n",
        "  print('colocar na xicara')\n"
      ],
      "metadata": {
        "id": "8F4ASOI9gQdI"
      },
      "execution_count": null,
      "outputs": []
    },
    {
      "cell_type": "code",
      "source": [
        "from __future__ import generator_stop\n",
        "# Fazer café\n",
        "preparar_bebida_quente1('cafe')\n"
      ],
      "metadata": {
        "colab": {
          "base_uri": "https://localhost:8080/"
        },
        "id": "7cmpPby_gbOO",
        "outputId": "12895581-1b46-479c-f5d3-0c9c9db41250"
      },
      "execution_count": null,
      "outputs": [
        {
          "output_type": "stream",
          "name": "stdout",
          "text": [
            "coloca água no recipiente\n",
            "ligar o fogo\n",
            "colocra recipiente no fogo\n",
            "esperar ferver\n",
            "desligar o fogo\n",
            "adicionar o chá\n",
            "filtrar\n",
            "colocar na xicara\n"
          ]
        }
      ]
    },
    {
      "cell_type": "code",
      "source": [
        "# Fazer chá\n",
        "preparar_bebida_quente1('chá')"
      ],
      "metadata": {
        "colab": {
          "base_uri": "https://localhost:8080/"
        },
        "id": "wjsytfE3iy-e",
        "outputId": "c80b2e6a-cab2-4ad7-ad3c-20b7e39057be"
      },
      "execution_count": null,
      "outputs": [
        {
          "output_type": "stream",
          "name": "stdout",
          "text": [
            "coloca água no recipiente\n",
            "ligar o fogo\n",
            "colocra recipiente no fogo\n",
            "esperar ferver\n",
            "desligar o fogo\n",
            "adicionar o chá\n",
            "filtrar\n",
            "colocar na xicara\n"
          ]
        }
      ]
    },
    {
      "cell_type": "code",
      "source": [
        "bebida = 'chá'\n",
        "def preparar_bebida_quente2():\n",
        "  print('coloca água no recipiente')\n",
        "  print('ligar o fogo')\n",
        "  print('colocra recipiente no fogo')\n",
        "  print('esperar ferver')\n",
        "  print('desligar o fogo')\n",
        "  if bebida == 'café':\n",
        "    print('adicionar o café')\n",
        "  else: #chá\n",
        "    print('adicionar o chá')\n",
        "  print('filtrar')\n",
        "  print('colocar na xicara')\n",
        "preparar_bebida_quente2()"
      ],
      "metadata": {
        "colab": {
          "base_uri": "https://localhost:8080/"
        },
        "id": "rPx0hpg9i_pM",
        "outputId": "0c9229cf-e1fb-444d-ace6-6dc113c816b5"
      },
      "execution_count": null,
      "outputs": [
        {
          "output_type": "stream",
          "name": "stdout",
          "text": [
            "coloca água no recipiente\n",
            "ligar o fogo\n",
            "colocra recipiente no fogo\n",
            "esperar ferver\n",
            "desligar o fogo\n",
            "adicionar o chá\n",
            "filtrar\n",
            "colocar na xicara\n"
          ]
        }
      ]
    },
    {
      "cell_type": "code",
      "source": [
        "preparar_bebida_quente2()"
      ],
      "metadata": {
        "colab": {
          "base_uri": "https://localhost:8080/"
        },
        "id": "MBjxKBpqjSZe",
        "outputId": "f269737f-025f-4093-9d71-928b54b57c99"
      },
      "execution_count": null,
      "outputs": [
        {
          "output_type": "stream",
          "name": "stdout",
          "text": [
            "coloca água no recipiente\n",
            "ligar o fogo\n",
            "colocra recipiente no fogo\n",
            "esperar ferver\n",
            "desligar o fogo\n",
            "adicionar o chá\n",
            "filtrar\n",
            "colocar na xicara\n"
          ]
        }
      ]
    },
    {
      "cell_type": "code",
      "source": [
        "bebida = 'chá'\n",
        "def preparar_bebida_quente3():\n",
        "  global bebida\n",
        "  bebida='café'\n",
        "  print('coloca água no recipiente')\n",
        "  print('ligar o fogo')\n",
        "  print('colocra recipiente no fogo')\n",
        "  print('esperar ferver')\n",
        "  print('desligar o fogo')\n",
        "  if bebida == 'café':\n",
        "    print('adicionar o café')\n",
        "  else: #chá\n",
        "    print('adicionar o chá')\n",
        "  print('filtrar')\n",
        "  print('colocar na xicara')"
      ],
      "metadata": {
        "id": "2RACZUlekLYE"
      },
      "execution_count": null,
      "outputs": []
    },
    {
      "cell_type": "code",
      "source": [
        "preparar_bebida_quente3()"
      ],
      "metadata": {
        "colab": {
          "base_uri": "https://localhost:8080/"
        },
        "id": "7COH8RavkoeU",
        "outputId": "94c7d3f2-169d-4189-e3be-6a318160ea69"
      },
      "execution_count": null,
      "outputs": [
        {
          "output_type": "stream",
          "name": "stdout",
          "text": [
            "coloca água no recipiente\n",
            "ligar o fogo\n",
            "colocra recipiente no fogo\n",
            "esperar ferver\n",
            "desligar o fogo\n",
            "adicionar o café\n",
            "filtrar\n",
            "colocar na xicara\n"
          ]
        }
      ]
    },
    {
      "cell_type": "code",
      "source": [
        "bebida"
      ],
      "metadata": {
        "colab": {
          "base_uri": "https://localhost:8080/",
          "height": 36
        },
        "id": "w2pIus_bkqoh",
        "outputId": "fb7f09ae-2085-4108-b7d3-1cb0497c333e"
      },
      "execution_count": null,
      "outputs": [
        {
          "output_type": "execute_result",
          "data": {
            "text/plain": [
              "'café'"
            ],
            "application/vnd.google.colaboratory.intrinsic+json": {
              "type": "string"
            }
          },
          "metadata": {},
          "execution_count": 43
        }
      ]
    },
    {
      "cell_type": "code",
      "source": [
        "def preparar_bebida_quente4(bebida_opcional='café'):\n",
        "  print('coloca água no recipiente')\n",
        "  print('ligar o fogo')\n",
        "  print('colocra recipiente no fogo')\n",
        "  print('esperar ferver')\n",
        "  print('desligar o fogo')\n",
        "  print(f'adicionar o {bebida_opcional}')\n",
        "  print('filtrar')\n",
        "  print('colocar na xicara')"
      ],
      "metadata": {
        "id": "AZBVn7ZelLag"
      },
      "execution_count": null,
      "outputs": []
    },
    {
      "cell_type": "code",
      "source": [
        "preparar_bebida_quente4('café')\n"
      ],
      "metadata": {
        "colab": {
          "base_uri": "https://localhost:8080/"
        },
        "id": "DDQalJDsmEsz",
        "outputId": "fdade5f3-9b86-4b02-8c66-81c4593695c3"
      },
      "execution_count": null,
      "outputs": [
        {
          "output_type": "stream",
          "name": "stdout",
          "text": [
            "coloca água no recipiente\n",
            "ligar o fogo\n",
            "colocra recipiente no fogo\n",
            "esperar ferver\n",
            "desligar o fogo\n",
            "adicionar o café\n",
            "filtrar\n",
            "colocar na xicara\n"
          ]
        }
      ]
    },
    {
      "cell_type": "code",
      "source": [
        "preparar_bebida_quente4('chá')"
      ],
      "metadata": {
        "colab": {
          "base_uri": "https://localhost:8080/"
        },
        "id": "SS2P1VjcmFXC",
        "outputId": "eee6d474-b999-4fe3-d194-95d2d57f5eb3"
      },
      "execution_count": null,
      "outputs": [
        {
          "output_type": "stream",
          "name": "stdout",
          "text": [
            "coloca água no recipiente\n",
            "ligar o fogo\n",
            "colocra recipiente no fogo\n",
            "esperar ferver\n",
            "desligar o fogo\n",
            "adicionar o chá\n",
            "filtrar\n",
            "colocar na xicara\n"
          ]
        }
      ]
    },
    {
      "cell_type": "code",
      "source": [
        "def preparar_bebida_quente5(com_acucar, bebida_opcional='café'):\n",
        "  print('coloca água no recipiente')\n",
        "  print('ligar o fogo')\n",
        "  print('colocra recipiente no fogo')\n",
        "  print('esperar ferver')\n",
        "  print('desligar o fogo')\n",
        "  print(f'adicionar o {bebida_opcional}')\n",
        "  if com_acucar:\n",
        "    print('adicionar açucar')\n",
        "  print('filtrar')\n",
        "  print('colocar na xicara')"
      ],
      "metadata": {
        "id": "94WeotXAmO-V"
      },
      "execution_count": null,
      "outputs": []
    },
    {
      "cell_type": "code",
      "source": [
        "preparar_bebida_quente5(True)"
      ],
      "metadata": {
        "colab": {
          "base_uri": "https://localhost:8080/"
        },
        "id": "tPKDuWtTni2K",
        "outputId": "ce860db6-d221-446f-c16b-22e60ff051f1"
      },
      "execution_count": null,
      "outputs": [
        {
          "output_type": "stream",
          "name": "stdout",
          "text": [
            "coloca água no recipiente\n",
            "ligar o fogo\n",
            "colocra recipiente no fogo\n",
            "esperar ferver\n",
            "desligar o fogo\n",
            "adicionar o café\n",
            "adicionar açucar\n",
            "filtrar\n",
            "colocar na xicara\n"
          ]
        }
      ]
    },
    {
      "cell_type": "code",
      "source": [
        "preparar_bebida_quente5(False)"
      ],
      "metadata": {
        "colab": {
          "base_uri": "https://localhost:8080/"
        },
        "id": "SqJJkNbpnisu",
        "outputId": "3038596c-3a4b-4be8-85fc-46e9adf16302"
      },
      "execution_count": null,
      "outputs": [
        {
          "output_type": "stream",
          "name": "stdout",
          "text": [
            "coloca água no recipiente\n",
            "ligar o fogo\n",
            "colocra recipiente no fogo\n",
            "esperar ferver\n",
            "desligar o fogo\n",
            "adicionar o café\n",
            "filtrar\n",
            "colocar na xicara\n"
          ]
        }
      ]
    },
    {
      "cell_type": "code",
      "source": [
        "preparar_bebida_quente5(bebida_opcional='chá', com_acucar=True)"
      ],
      "metadata": {
        "colab": {
          "base_uri": "https://localhost:8080/"
        },
        "id": "L6IRRUQzmhvu",
        "outputId": "3fd2abfe-0216-41a3-dcab-e07c9db5fa32"
      },
      "execution_count": null,
      "outputs": [
        {
          "output_type": "stream",
          "name": "stdout",
          "text": [
            "coloca água no recipiente\n",
            "ligar o fogo\n",
            "colocra recipiente no fogo\n",
            "esperar ferver\n",
            "desligar o fogo\n",
            "adicionar o chá\n",
            "adicionar açucar\n",
            "filtrar\n",
            "colocar na xicara\n"
          ]
        }
      ]
    },
    {
      "cell_type": "code",
      "source": [
        "variavel = 2\n",
        "def mudar_lista(variavel):\n",
        "  variavel = 3\n",
        "variavel"
      ],
      "metadata": {
        "colab": {
          "base_uri": "https://localhost:8080/"
        },
        "id": "_v7iK_UlmmFJ",
        "outputId": "a141907d-862f-42d8-fbff-17ba2bf5d54d"
      },
      "execution_count": null,
      "outputs": [
        {
          "output_type": "execute_result",
          "data": {
            "text/plain": [
              "2"
            ]
          },
          "metadata": {},
          "execution_count": 60
        }
      ]
    }
  ]
}